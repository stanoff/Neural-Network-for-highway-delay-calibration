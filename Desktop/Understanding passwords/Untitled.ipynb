{
 "cells": [
  {
   "cell_type": "markdown",
   "id": "8ea7feae",
   "metadata": {},
   "source": [
    "**Understanding How Your Passwords Are Kept Safe: A Look Behind the Scenes**\n",
    "\n",
    "In today's digital world, the security of your online accounts is more important than ever. You may have wondered, \"Is my password really safe when I enter it on a website?\" or \"Can the developers or administrators see my password?\" We're here to explain how passwords are securely managed and why your sensitive information remains protected, especially when using websites built with Python.\n",
    "\n",
    "**1. How Password Security Works: The Basics**\n",
    "\n",
    "When you create an account or log in to a website, you provide a password. However, your password is never stored as plain text (the way you type it) on the server. Instead, a process called hashing is used to transform your password into a unique string of characters. This hashed version is what's stored, not the actual password.\n",
    "\n",
    "What is Hashing? Hashing is a method of converting your password into a fixed-length string using a mathematical algorithm. A key feature of hashing is that it's a one-way process: once the password is hashed, it cannot be reversed back to the original password. For example:\n",
    "\n",
    "Your Password: MySecret123\n",
    "\n",
    "Hashed Version: 5d41402abc4b2a76b9719d911017c592\n",
    "\n",
    "Each time you log in, the system hashes the password you entered and checks it against the stored hash. If they match, you're granted access.\n",
    "\n",
    "**2. Why Developers Can't See Your Password**\n",
    "\n",
    "Since only the hashed version of your password is stored, there’s no way for backend developers or administrators to know what your original password is. Even if they have access to the database, all they see are hashed values that are impossible to decode into plain text. Here’s how the process works in a Python-based system:\n",
    "\n",
    "Step-by-Step Process in Python\n",
    "\n",
    "Password Creation (Sign-Up):\n",
    "\n",
    "When you sign up, you enter a password.\n",
    "The backend code hashes your password using a secure hashing algorithm like bcrypt.\n",
    "The hashed password is stored in the database.\n"
   ]
  },
  {
   "cell_type": "code",
   "execution_count": null,
   "id": "15b884b1",
   "metadata": {},
   "outputs": [],
   "source": [
    "import bcrypt\n",
    "\n",
    "# Hashing a password\n",
    "password = b\"MySecret123\"\n",
    "hashed_password = bcrypt.hashpw(password, bcrypt.gensalt())\n",
    "print(hashed_password)  # This is what's stored in the database\n"
   ]
  },
  {
   "cell_type": "markdown",
   "id": "3d4edfab",
   "metadata": {},
   "source": [
    "2.Password Verification (Login):\n",
    "\n",
    "When you log in, you enter your password.\n",
    "The system hashes the entered password using the same algorithm.\n",
    "It compares this hash with the stored hash. If they match, access is granted.\n",
    "python"
   ]
  },
  {
   "cell_type": "code",
   "execution_count": null,
   "id": "681bc452",
   "metadata": {},
   "outputs": [],
   "source": [
    "# Verifying a password\n",
    "user_input = b\"MySecret123\"\n",
    "if bcrypt.checkpw(user_input, hashed_password):\n",
    "    print(\"Access Granted\")\n",
    "else:\n",
    "    print(\"Access Denied\")\n"
   ]
  },
  {
   "cell_type": "markdown",
   "id": "cbc28b68",
   "metadata": {},
   "source": [
    "3. Advanced Security: Salting\n",
    "To further enhance security, we use a technique called salting. A salt is a random string added to your password before hashing. This ensures that even if two users have the same password, their hashes will be different.\n",
    "\n",
    "Example:\n",
    "\n",
    "User 1 Password: MySecret123 + Salt xyz → Unique Hash\n",
    "User 2 Password: MySecret123 + Salt abc → Different Unique Hash\n",
    "Salting prevents attackers from using precomputed tables (known as rainbow tables) to crack passwords.\n",
    "\n",
    "4. Modern Hashing Techniques\n",
    "Python provides several options for hashing, but we use libraries like bcrypt, argon2, and PBKDF2 because they are designed to be slow and computationally intensive, which makes it difficult for attackers to brute-force passwords.\n",
    "\n",
    "Here’s a simplified example using bcrypt:"
   ]
  },
  {
   "cell_type": "code",
   "execution_count": null,
   "id": "d6c0f7c0",
   "metadata": {},
   "outputs": [],
   "source": [
    "import bcrypt\n",
    "\n",
    "# Storing the password securely\n",
    "password = b\"SuperSecurePassword\"\n",
    "hashed_password = bcrypt.hashpw(password, bcrypt.gensalt())\n",
    "\n",
    "# Verifying the password\n",
    "if bcrypt.checkpw(b\"SuperSecurePassword\", hashed_password):\n",
    "    print(\"Password is correct!\")\n",
    "else:\n",
    "    print(\"Incorrect password.\")\n"
   ]
  },
  {
   "cell_type": "markdown",
   "id": "76ae02e0",
   "metadata": {},
   "source": [
    "5. What You Can Do to Stay Safe\n",
    "While developers take care of securing your password on the backend, there are steps you can take to protect yourself:\n",
    "\n",
    "Use Strong Passwords: Combine upper and lowercase letters, numbers, and symbols.\n",
    "Enable Two-Factor Authentication (2FA): This adds an extra layer of security.\n",
    "Avoid Reusing Passwords: Use different passwords for different accounts.\n",
    "Conclusion\n",
    "We want to assure you that your passwords are safe with us, and our backend developers cannot see your actual passwords. By using secure hashing techniques and following best practices, we ensure that your sensitive information is protected. Your privacy and security are our top priorities.\n",
    "\n",
    "Thank you for trusting us, and we hope this article clarifies how your passwords are managed behind the scenes. Stay safe online!"
   ]
  }
 ],
 "metadata": {
  "kernelspec": {
   "display_name": "Python (learn-env)",
   "language": "python",
   "name": "learn-env"
  },
  "language_info": {
   "codemirror_mode": {
    "name": "ipython",
    "version": 3
   },
   "file_extension": ".py",
   "mimetype": "text/x-python",
   "name": "python",
   "nbconvert_exporter": "python",
   "pygments_lexer": "ipython3",
   "version": "3.10.9"
  }
 },
 "nbformat": 4,
 "nbformat_minor": 5
}
